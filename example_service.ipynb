{
 "cells": [
  {
   "cell_type": "markdown",
   "metadata": {},
   "source": [
    "# Импорт необходимых библиотек"
   ]
  },
  {
   "cell_type": "code",
   "execution_count": 1,
   "metadata": {},
   "outputs": [],
   "source": [
    "# Основания библиотека\n",
    "from flask import Flask\n",
    "# Позволяет получать запросы\n",
    "from flask import request\n",
    "# Позволяет преобразовывать python словарь в json\n",
    "from flask.json import jsonify"
   ]
  },
  {
   "cell_type": "markdown",
   "metadata": {},
   "source": [
    "# Тело вервиса"
   ]
  },
  {
   "cell_type": "code",
   "execution_count": 2,
   "metadata": {},
   "outputs": [],
   "source": [
    "# Подготовка приложения к работе\n",
    "APP = Flask(__name__)"
   ]
  },
  {
   "cell_type": "code",
   "execution_count": 3,
   "metadata": {},
   "outputs": [],
   "source": [
    "# Описание функции\n",
    "# в '/...' записан адрес функции\n",
    "# methods=['GET', 'POST', ...] - http-методы, которые принимает функция\n",
    "@APP.route('/', methods=['GET'])\n",
    "def index(): # тут может быть любое название, суть в том, что метод APP.route принимает эту функцию (index) на вход\n",
    "    # создаем словарь\n",
    "    answer = {}\n",
    "    # Записываем туда информацию (ключ может быть любым! как и значение, впрочем)\n",
    "    answer['message'] = 'hello student!'\n",
    "    # Вызывая функцию jsonify(...) преобразуем answer в формат JSON\n",
    "    return jsonify(answer)"
   ]
  },
  {
   "cell_type": "code",
   "execution_count": 4,
   "metadata": {},
   "outputs": [],
   "source": [
    "# Обратите внимание, что тут другой адрес функции, и название. Реализуется http-метод GET\n",
    "@APP.route('/hello', methods=['GET'])\n",
    "def hello(): \n",
    "    answer = {}\n",
    "    answer['message_1'] = 'hello student!'\n",
    "    answer['message_2'] = 'It is a nice day today! Isn`t it?'\n",
    "    return jsonify(answer)"
   ]
  },
  {
   "cell_type": "code",
   "execution_count": 5,
   "metadata": {},
   "outputs": [],
   "source": [
    "# Обратите внимание, что тут другой адрес функции, и название. Реализуется http-метод POST\n",
    "@APP.route('/yourmsg', methods=['POST'])\n",
    "def yourmsg():\n",
    "    # Получили посланный документ и преобразовали из JSON в словарь python\n",
    "    jdict = request.get_json(force=True)\n",
    "    mes = jdict['message']\n",
    "    answer = {}\n",
    "    answer['message'] = \"Your message is: '{}'\".format(mes)\n",
    "    return jsonify(answer)"
   ]
  },
  {
   "cell_type": "code",
   "execution_count": 6,
   "metadata": {},
   "outputs": [],
   "source": [
    "# Обратите внимание, что тут другой адрес функции, и название. Реализуется http-метод POST\n",
    "@APP.route('/story', methods=['POST'])\n",
    "def story():\n",
    "    # Получили посланный документ и преобразовали из JSON в словарь python\n",
    "    jdict = request.get_json(force=True)\n",
    "    answer = {}\n",
    "    answer['message'] = \"Hello {} {}! Your age is {}. You are so young! Your favourite PL is {}\".format(jdict['surname'],\n",
    "                                                                                                        jdict['name'],\n",
    "                                                                                                        jdict['age'],\n",
    "                                                                                                        jdict['fav_pl']\n",
    "                                                                                                       )\n",
    "    return jsonify(answer)"
   ]
  },
  {
   "cell_type": "code",
   "execution_count": 7,
   "metadata": {},
   "outputs": [],
   "source": [
    "# Обратите внимание, что тут другой адрес функции, и название. Реализуется http-метод POST\n",
    "@APP.route('/intexample', methods=['POST'])\n",
    "def intexample():\n",
    "    # Получили посланный документ и преобразовали из JSON в словарь python\n",
    "    jdict = request.get_json(force=True)\n",
    "    mes = int(jdict['integer'])\n",
    "    answer = {}\n",
    "    answer['message'] = str(mes - 2)\n",
    "    return jsonify(answer)"
   ]
  },
  {
   "cell_type": "markdown",
   "metadata": {},
   "source": [
    "# Запускаем веб-сервис"
   ]
  },
  {
   "cell_type": "code",
   "execution_count": null,
   "metadata": {},
   "outputs": [
    {
     "name": "stderr",
     "output_type": "stream",
     "text": [
      " * Running on http://127.0.0.1:5000/ (Press CTRL+C to quit)\n",
      "127.0.0.1 - - [09/Jul/2018 19:51:12] \"GET / HTTP/1.1\" 200 -\n",
      "127.0.0.1 - - [09/Jul/2018 19:51:43] \"GET /hello HTTP/1.1\" 200 -\n",
      "127.0.0.1 - - [09/Jul/2018 19:52:45] \"POST /yourmsg HTTP/1.1\" 400 -\n",
      "127.0.0.1 - - [09/Jul/2018 19:54:23] \"POST /yourmsg HTTP/1.1\" 200 -\n",
      "127.0.0.1 - - [09/Jul/2018 19:55:12] \"POST /story HTTP/1.1\" 200 -\n",
      "127.0.0.1 - - [09/Jul/2018 19:55:20] \"POST /intexample HTTP/1.1\" 200 -\n"
     ]
    }
   ],
   "source": [
    "APP.run()"
   ]
  },
  {
   "cell_type": "markdown",
   "metadata": {},
   "source": [
    "______"
   ]
  }
 ],
 "metadata": {
  "kernelspec": {
   "display_name": "Python 3",
   "language": "python",
   "name": "python3"
  },
  "language_info": {
   "codemirror_mode": {
    "name": "ipython",
    "version": 3
   },
   "file_extension": ".py",
   "mimetype": "text/x-python",
   "name": "python",
   "nbconvert_exporter": "python",
   "pygments_lexer": "ipython3",
   "version": "3.6.1"
  }
 },
 "nbformat": 4,
 "nbformat_minor": 2
}
